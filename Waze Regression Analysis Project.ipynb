{
 "cells": [
  {
   "cell_type": "markdown",
   "metadata": {
    "id": "DtNBZFHO3M7n"
   },
   "source": [
    "# **Waze app Regression Modeling Project**\n"
   ]
  },
  {
   "cell_type": "markdown",
   "metadata": {},
   "source": [
    "# Introduction\n",
    "\n",
    "Waze, a navigation app guides millions to their destinations safely and efficiently. While Waze is a travel companion for many, there is a constant challenge of keeping the users engaged to prevent churn - defined as when users stop using the app. Churn can have significant implications for the company's growth, and overall business performance.\n",
    "\n",
    "The leadership at Waze is eager to determine factors that contribute to churn. By identifying the factors contributing to churn, Waze can develop targeted strategies to retain users.\n",
    "\n",
    "Follow me as I prepare the data, build the model, unearth valuable insights into factors that affect churn, and interpret the model's results.\n",
    "\n",
    "\n",
    "***PS. For a snapshot of the project, please refer to the*** [Executive Summary](https://docs.google.com/presentation/d/1jY30m-n4b7mGxhN6Iv4OcVEkMiJhx1iFkydBkaHfqhI/edit#slide=id.g24d11347f20_0_376)"
   ]
  },
  {
   "cell_type": "markdown",
   "metadata": {},
   "source": [
    "### **This project has three parts**\n",
    "\n",
    "\n",
    "**Part 1:** Exploratory Data Analysis (EDA)\n",
    "- Importing the required data, libraries and performing EDA.\n",
    "\n",
    "**Part 2:** Model Building and Evaluation\n",
    "- Building a binomial regression model to predict churn and evaluating its performance using appropriate metrics.\n",
    "\n",
    "**Part 3:** Interpreting Model Results\n",
    "- Analyzing the model's outputs to identify key factors influencing churn.\n",
    "- Summarizing findings & communicating  actionable insights to the leadership."
   ]
  },
  {
   "cell_type": "markdown",
   "metadata": {
    "id": "4L5F-G_cfLWL"
   },
   "source": [
    "# **Part 1. Imports, data loading and Exploratory Data Analysis** "
   ]
  },
  {
   "cell_type": "markdown",
   "metadata": {
    "id": "D8qYlvkLQsf2"
   },
   "source": [
    "In this section, I will initialize the Python environment with the necessary libraries required for building a bionomial regression model. Subsequently, I will load the dataset and convert it into a format conducive to data manipulation and analysis. Additionally, an initial analysis will be conducted to comprehend the underlying characteristics of the dataset."
   ]
  },
  {
   "cell_type": "code",
   "execution_count": 1,
   "metadata": {
    "id": "ccfeg6X6eOVZ"
   },
   "outputs": [],
   "source": [
    "# Packages for numerics \n",
    "import numpy as np\n",
    "import pandas as pd\n",
    "\n",
    "\n",
    "# Packages for visualization\n",
    "import seaborn as sns\n",
    "import matplotlib.pyplot as plt\n",
    "\n",
    "\n",
    "# Packages for Logistic Regression, Classification Report & Confusion Matrix\n",
    "from sklearn.metrics import classification_report\n",
    "from sklearn.linear_model import LogisticRegression\n",
    "from sklearn.model_selection import train_test_split\n",
    "from sklearn.metrics import confusion_matrix, ConfusionMatrixDisplay, accuracy_score"
   ]
  },
  {
   "cell_type": "code",
   "execution_count": 2,
   "metadata": {
    "id": "TyR3sBUYJBO8"
   },
   "outputs": [],
   "source": [
    "# Loading the dataset \n",
    "df = pd.read_csv('waze_dataset.csv')"
   ]
  },
  {
   "cell_type": "code",
   "execution_count": 3,
   "metadata": {
    "id": "offDH5p62x73"
   },
   "outputs": [
    {
     "name": "stdout",
     "output_type": "stream",
     "text": [
      "The number of rows in the dataset are: 14999\n",
      "The number of columns in the dataset are: 13\n"
     ]
    }
   ],
   "source": [
    "# Verifying and validating that the dataset was loaded properly\n",
    "print(f'The number of rows in the dataset are: {df.shape[0]}')\n",
    "print(f'The number of columns in the dataset are: {df.shape[1]}')"
   ]
  },
  {
   "cell_type": "code",
   "execution_count": 4,
   "metadata": {},
   "outputs": [
    {
     "data": {
      "text/html": [
       "<div>\n",
       "<style scoped>\n",
       "    .dataframe tbody tr th:only-of-type {\n",
       "        vertical-align: middle;\n",
       "    }\n",
       "\n",
       "    .dataframe tbody tr th {\n",
       "        vertical-align: top;\n",
       "    }\n",
       "\n",
       "    .dataframe thead th {\n",
       "        text-align: right;\n",
       "    }\n",
       "</style>\n",
       "<table border=\"1\" class=\"dataframe\">\n",
       "  <thead>\n",
       "    <tr style=\"text-align: right;\">\n",
       "      <th></th>\n",
       "      <th>ID</th>\n",
       "      <th>label</th>\n",
       "      <th>sessions</th>\n",
       "      <th>drives</th>\n",
       "      <th>total_sessions</th>\n",
       "      <th>n_days_after_onboarding</th>\n",
       "      <th>total_navigations_fav1</th>\n",
       "      <th>total_navigations_fav2</th>\n",
       "      <th>driven_km_drives</th>\n",
       "      <th>duration_minutes_drives</th>\n",
       "      <th>activity_days</th>\n",
       "      <th>driving_days</th>\n",
       "      <th>device</th>\n",
       "    </tr>\n",
       "  </thead>\n",
       "  <tbody>\n",
       "    <tr>\n",
       "      <th>0</th>\n",
       "      <td>0</td>\n",
       "      <td>retained</td>\n",
       "      <td>283</td>\n",
       "      <td>226</td>\n",
       "      <td>296.748273</td>\n",
       "      <td>2276</td>\n",
       "      <td>208</td>\n",
       "      <td>0</td>\n",
       "      <td>2628.845068</td>\n",
       "      <td>1985.775061</td>\n",
       "      <td>28</td>\n",
       "      <td>19</td>\n",
       "      <td>Android</td>\n",
       "    </tr>\n",
       "    <tr>\n",
       "      <th>1</th>\n",
       "      <td>1</td>\n",
       "      <td>retained</td>\n",
       "      <td>133</td>\n",
       "      <td>107</td>\n",
       "      <td>326.896596</td>\n",
       "      <td>1225</td>\n",
       "      <td>19</td>\n",
       "      <td>64</td>\n",
       "      <td>13715.920550</td>\n",
       "      <td>3160.472914</td>\n",
       "      <td>13</td>\n",
       "      <td>11</td>\n",
       "      <td>iPhone</td>\n",
       "    </tr>\n",
       "    <tr>\n",
       "      <th>2</th>\n",
       "      <td>2</td>\n",
       "      <td>retained</td>\n",
       "      <td>114</td>\n",
       "      <td>95</td>\n",
       "      <td>135.522926</td>\n",
       "      <td>2651</td>\n",
       "      <td>0</td>\n",
       "      <td>0</td>\n",
       "      <td>3059.148818</td>\n",
       "      <td>1610.735904</td>\n",
       "      <td>14</td>\n",
       "      <td>8</td>\n",
       "      <td>Android</td>\n",
       "    </tr>\n",
       "    <tr>\n",
       "      <th>3</th>\n",
       "      <td>3</td>\n",
       "      <td>retained</td>\n",
       "      <td>49</td>\n",
       "      <td>40</td>\n",
       "      <td>67.589221</td>\n",
       "      <td>15</td>\n",
       "      <td>322</td>\n",
       "      <td>7</td>\n",
       "      <td>913.591123</td>\n",
       "      <td>587.196542</td>\n",
       "      <td>7</td>\n",
       "      <td>3</td>\n",
       "      <td>iPhone</td>\n",
       "    </tr>\n",
       "    <tr>\n",
       "      <th>4</th>\n",
       "      <td>4</td>\n",
       "      <td>retained</td>\n",
       "      <td>84</td>\n",
       "      <td>68</td>\n",
       "      <td>168.247020</td>\n",
       "      <td>1562</td>\n",
       "      <td>166</td>\n",
       "      <td>5</td>\n",
       "      <td>3950.202008</td>\n",
       "      <td>1219.555924</td>\n",
       "      <td>27</td>\n",
       "      <td>18</td>\n",
       "      <td>Android</td>\n",
       "    </tr>\n",
       "  </tbody>\n",
       "</table>\n",
       "</div>"
      ],
      "text/plain": [
       "   ID     label  sessions  drives  total_sessions  n_days_after_onboarding  \\\n",
       "0   0  retained       283     226      296.748273                     2276   \n",
       "1   1  retained       133     107      326.896596                     1225   \n",
       "2   2  retained       114      95      135.522926                     2651   \n",
       "3   3  retained        49      40       67.589221                       15   \n",
       "4   4  retained        84      68      168.247020                     1562   \n",
       "\n",
       "   total_navigations_fav1  total_navigations_fav2  driven_km_drives  \\\n",
       "0                     208                       0       2628.845068   \n",
       "1                      19                      64      13715.920550   \n",
       "2                       0                       0       3059.148818   \n",
       "3                     322                       7        913.591123   \n",
       "4                     166                       5       3950.202008   \n",
       "\n",
       "   duration_minutes_drives  activity_days  driving_days   device  \n",
       "0              1985.775061             28            19  Android  \n",
       "1              3160.472914             13            11   iPhone  \n",
       "2              1610.735904             14             8  Android  \n",
       "3               587.196542              7             3   iPhone  \n",
       "4              1219.555924             27            18  Android  "
      ]
     },
     "execution_count": 4,
     "metadata": {},
     "output_type": "execute_result"
    }
   ],
   "source": [
    "# Generating the top five rows of the dataframe to get a preliminary understanding of the dataset\n",
    "df.head()"
   ]
  },
  {
   "cell_type": "code",
   "execution_count": 5,
   "metadata": {},
   "outputs": [
    {
     "data": {
      "text/html": [
       "<div>\n",
       "<style scoped>\n",
       "    .dataframe tbody tr th:only-of-type {\n",
       "        vertical-align: middle;\n",
       "    }\n",
       "\n",
       "    .dataframe tbody tr th {\n",
       "        vertical-align: top;\n",
       "    }\n",
       "\n",
       "    .dataframe thead th {\n",
       "        text-align: right;\n",
       "    }\n",
       "</style>\n",
       "<table border=\"1\" class=\"dataframe\">\n",
       "  <thead>\n",
       "    <tr style=\"text-align: right;\">\n",
       "      <th></th>\n",
       "      <th>ID</th>\n",
       "      <th>sessions</th>\n",
       "      <th>drives</th>\n",
       "      <th>total_sessions</th>\n",
       "      <th>n_days_after_onboarding</th>\n",
       "      <th>total_navigations_fav1</th>\n",
       "      <th>total_navigations_fav2</th>\n",
       "      <th>driven_km_drives</th>\n",
       "      <th>duration_minutes_drives</th>\n",
       "      <th>activity_days</th>\n",
       "      <th>driving_days</th>\n",
       "    </tr>\n",
       "  </thead>\n",
       "  <tbody>\n",
       "    <tr>\n",
       "      <th>count</th>\n",
       "      <td>14999.000000</td>\n",
       "      <td>14999.000000</td>\n",
       "      <td>14999.000000</td>\n",
       "      <td>14999.000000</td>\n",
       "      <td>14999.000000</td>\n",
       "      <td>14999.000000</td>\n",
       "      <td>14999.000000</td>\n",
       "      <td>14999.000000</td>\n",
       "      <td>14999.000000</td>\n",
       "      <td>14999.000000</td>\n",
       "      <td>14999.000000</td>\n",
       "    </tr>\n",
       "    <tr>\n",
       "      <th>mean</th>\n",
       "      <td>7499.000000</td>\n",
       "      <td>80.633776</td>\n",
       "      <td>67.281152</td>\n",
       "      <td>189.964447</td>\n",
       "      <td>1749.837789</td>\n",
       "      <td>121.605974</td>\n",
       "      <td>29.672512</td>\n",
       "      <td>4039.340921</td>\n",
       "      <td>1860.976012</td>\n",
       "      <td>15.537102</td>\n",
       "      <td>12.179879</td>\n",
       "    </tr>\n",
       "    <tr>\n",
       "      <th>std</th>\n",
       "      <td>4329.982679</td>\n",
       "      <td>80.699065</td>\n",
       "      <td>65.913872</td>\n",
       "      <td>136.405128</td>\n",
       "      <td>1008.513876</td>\n",
       "      <td>148.121544</td>\n",
       "      <td>45.394651</td>\n",
       "      <td>2502.149334</td>\n",
       "      <td>1446.702288</td>\n",
       "      <td>9.004655</td>\n",
       "      <td>7.824036</td>\n",
       "    </tr>\n",
       "    <tr>\n",
       "      <th>min</th>\n",
       "      <td>0.000000</td>\n",
       "      <td>0.000000</td>\n",
       "      <td>0.000000</td>\n",
       "      <td>0.220211</td>\n",
       "      <td>4.000000</td>\n",
       "      <td>0.000000</td>\n",
       "      <td>0.000000</td>\n",
       "      <td>60.441250</td>\n",
       "      <td>18.282082</td>\n",
       "      <td>0.000000</td>\n",
       "      <td>0.000000</td>\n",
       "    </tr>\n",
       "    <tr>\n",
       "      <th>25%</th>\n",
       "      <td>3749.500000</td>\n",
       "      <td>23.000000</td>\n",
       "      <td>20.000000</td>\n",
       "      <td>90.661156</td>\n",
       "      <td>878.000000</td>\n",
       "      <td>9.000000</td>\n",
       "      <td>0.000000</td>\n",
       "      <td>2212.600607</td>\n",
       "      <td>835.996260</td>\n",
       "      <td>8.000000</td>\n",
       "      <td>5.000000</td>\n",
       "    </tr>\n",
       "    <tr>\n",
       "      <th>50%</th>\n",
       "      <td>7499.000000</td>\n",
       "      <td>56.000000</td>\n",
       "      <td>48.000000</td>\n",
       "      <td>159.568115</td>\n",
       "      <td>1741.000000</td>\n",
       "      <td>71.000000</td>\n",
       "      <td>9.000000</td>\n",
       "      <td>3493.858085</td>\n",
       "      <td>1478.249859</td>\n",
       "      <td>16.000000</td>\n",
       "      <td>12.000000</td>\n",
       "    </tr>\n",
       "    <tr>\n",
       "      <th>75%</th>\n",
       "      <td>11248.500000</td>\n",
       "      <td>112.000000</td>\n",
       "      <td>93.000000</td>\n",
       "      <td>254.192341</td>\n",
       "      <td>2623.500000</td>\n",
       "      <td>178.000000</td>\n",
       "      <td>43.000000</td>\n",
       "      <td>5289.861262</td>\n",
       "      <td>2464.362632</td>\n",
       "      <td>23.000000</td>\n",
       "      <td>19.000000</td>\n",
       "    </tr>\n",
       "    <tr>\n",
       "      <th>max</th>\n",
       "      <td>14998.000000</td>\n",
       "      <td>743.000000</td>\n",
       "      <td>596.000000</td>\n",
       "      <td>1216.154633</td>\n",
       "      <td>3500.000000</td>\n",
       "      <td>1236.000000</td>\n",
       "      <td>415.000000</td>\n",
       "      <td>21183.401890</td>\n",
       "      <td>15851.727160</td>\n",
       "      <td>31.000000</td>\n",
       "      <td>30.000000</td>\n",
       "    </tr>\n",
       "  </tbody>\n",
       "</table>\n",
       "</div>"
      ],
      "text/plain": [
       "                 ID      sessions        drives  total_sessions  \\\n",
       "count  14999.000000  14999.000000  14999.000000    14999.000000   \n",
       "mean    7499.000000     80.633776     67.281152      189.964447   \n",
       "std     4329.982679     80.699065     65.913872      136.405128   \n",
       "min        0.000000      0.000000      0.000000        0.220211   \n",
       "25%     3749.500000     23.000000     20.000000       90.661156   \n",
       "50%     7499.000000     56.000000     48.000000      159.568115   \n",
       "75%    11248.500000    112.000000     93.000000      254.192341   \n",
       "max    14998.000000    743.000000    596.000000     1216.154633   \n",
       "\n",
       "       n_days_after_onboarding  total_navigations_fav1  \\\n",
       "count             14999.000000            14999.000000   \n",
       "mean               1749.837789              121.605974   \n",
       "std                1008.513876              148.121544   \n",
       "min                   4.000000                0.000000   \n",
       "25%                 878.000000                9.000000   \n",
       "50%                1741.000000               71.000000   \n",
       "75%                2623.500000              178.000000   \n",
       "max                3500.000000             1236.000000   \n",
       "\n",
       "       total_navigations_fav2  driven_km_drives  duration_minutes_drives  \\\n",
       "count            14999.000000      14999.000000             14999.000000   \n",
       "mean                29.672512       4039.340921              1860.976012   \n",
       "std                 45.394651       2502.149334              1446.702288   \n",
       "min                  0.000000         60.441250                18.282082   \n",
       "25%                  0.000000       2212.600607               835.996260   \n",
       "50%                  9.000000       3493.858085              1478.249859   \n",
       "75%                 43.000000       5289.861262              2464.362632   \n",
       "max                415.000000      21183.401890             15851.727160   \n",
       "\n",
       "       activity_days  driving_days  \n",
       "count   14999.000000  14999.000000  \n",
       "mean       15.537102     12.179879  \n",
       "std         9.004655      7.824036  \n",
       "min         0.000000      0.000000  \n",
       "25%         8.000000      5.000000  \n",
       "50%        16.000000     12.000000  \n",
       "75%        23.000000     19.000000  \n",
       "max        31.000000     30.000000  "
      ]
     },
     "execution_count": 5,
     "metadata": {},
     "output_type": "execute_result"
    }
   ],
   "source": [
    "# Generating Summary Statistics for the numerical variables in the dataset\n",
    "df.describe()"
   ]
  },
  {
   "cell_type": "code",
   "execution_count": 6,
   "metadata": {
    "id": "T4Ag-sZhWg6K"
   },
   "outputs": [
    {
     "name": "stdout",
     "output_type": "stream",
     "text": [
      "<class 'pandas.core.frame.DataFrame'>\n",
      "RangeIndex: 14999 entries, 0 to 14998\n",
      "Data columns (total 13 columns):\n",
      " #   Column                   Non-Null Count  Dtype  \n",
      "---  ------                   --------------  -----  \n",
      " 0   ID                       14999 non-null  int64  \n",
      " 1   label                    14299 non-null  object \n",
      " 2   sessions                 14999 non-null  int64  \n",
      " 3   drives                   14999 non-null  int64  \n",
      " 4   total_sessions           14999 non-null  float64\n",
      " 5   n_days_after_onboarding  14999 non-null  int64  \n",
      " 6   total_navigations_fav1   14999 non-null  int64  \n",
      " 7   total_navigations_fav2   14999 non-null  int64  \n",
      " 8   driven_km_drives         14999 non-null  float64\n",
      " 9   duration_minutes_drives  14999 non-null  float64\n",
      " 10  activity_days            14999 non-null  int64  \n",
      " 11  driving_days             14999 non-null  int64  \n",
      " 12  device                   14999 non-null  object \n",
      "dtypes: float64(3), int64(8), object(2)\n",
      "memory usage: 1.5+ MB\n"
     ]
    }
   ],
   "source": [
    "# Checking for misssing values in the dataset\n",
    "df.info()"
   ]
  },
  {
   "cell_type": "code",
   "execution_count": 7,
   "metadata": {
    "id": "mT1h-utWs7ow"
   },
   "outputs": [
    {
     "data": {
      "text/plain": [
       "retained    0.822645\n",
       "churned     0.177355\n",
       "Name: label, dtype: float64"
      ]
     },
     "execution_count": 7,
     "metadata": {},
     "output_type": "execute_result"
    }
   ],
   "source": [
    "# Checking the class balance of the dependent (target) variable, \"label\".\n",
    "df['label'].value_counts(normalize=True)"
   ]
  },
  {
   "cell_type": "markdown",
   "metadata": {},
   "source": [
    "***For a comprehensive Exploratory Data Analysis (EDA) and detailed visualizations of the dataset, please refer to a previously compiled notebook***. [Please click on the following link for detailed EDA & visualizations](https://github.com/3quraishi/Waze-EDA-and-User-Churn-Analysis/blob/main/Waze%20Portfolio%20Project.ipynb). In this current notebook, we will build upon that groundwork and build the binomial regression model."
   ]
  },
  {
   "cell_type": "markdown",
   "metadata": {},
   "source": [
    "# **Part 2. Model Building and Evaluation**\n",
    "\n"
   ]
  },
  {
   "cell_type": "code",
   "execution_count": 8,
   "metadata": {
    "id": "CZK6D8kls9cj"
   },
   "outputs": [],
   "source": [
    "# Removing the ID column since we don't need this information for the analysis.\n",
    "df = df.drop(columns=['ID'])"
   ]
  },
  {
   "cell_type": "markdown",
   "metadata": {
    "id": "hl8G_0FR6Rvk"
   },
   "source": [
    "### Feature Engineering\n",
    "\n",
    "Developing new features or transforming existing ones to enhance the model's ability to address the business problem effectively. These features may also align with stakeholder interests for actionable insights."
   ]
  },
  {
   "cell_type": "code",
   "execution_count": 9,
   "metadata": {
    "id": "KCEzE-gwL5gq"
   },
   "outputs": [
    {
     "data": {
      "text/plain": [
       "count    1.499900e+04\n",
       "mean              inf\n",
       "std               NaN\n",
       "min      3.022063e+00\n",
       "25%      1.672804e+02\n",
       "50%      3.231459e+02\n",
       "75%      7.579257e+02\n",
       "max               inf\n",
       "Name: km_per_driving_day, dtype: float64"
      ]
     },
     "execution_count": 9,
     "metadata": {},
     "output_type": "execute_result"
    }
   ],
   "source": [
    "# Creating a new column, km_per_driving_day \n",
    "df['km_per_driving_day'] = df['driven_km_drives'] / df['driving_days']\n",
    "\n",
    "# Calling .describe() on the new column\n",
    "df['km_per_driving_day'].describe()"
   ]
  },
  {
   "cell_type": "code",
   "execution_count": 10,
   "metadata": {
    "id": "FetTHatPoR6n"
   },
   "outputs": [
    {
     "data": {
      "text/plain": [
       "count    14999.000000\n",
       "mean       578.963113\n",
       "std       1030.094384\n",
       "min          0.000000\n",
       "25%        136.238895\n",
       "50%        272.889272\n",
       "75%        558.686918\n",
       "max      15420.234110\n",
       "Name: km_per_driving_day, dtype: float64"
      ]
     },
     "execution_count": 10,
     "metadata": {},
     "output_type": "execute_result"
    }
   ],
   "source": [
    "# Converting infinite values to zero\n",
    "df['km_per_driving_day'] = df['km_per_driving_day'].replace(np.inf, 0)\n",
    "\n",
    "# Calling .describe() to confirm that it worked\n",
    "df['km_per_driving_day'].describe()"
   ]
  },
  {
   "cell_type": "code",
   "execution_count": 11,
   "metadata": {
    "id": "huWmzNp2Xj8o"
   },
   "outputs": [],
   "source": [
    "# Creating professional_driver column that is a 1 for users who had 60 or more drives and drove on 15+ days in the last month.\n",
    "df['professional_driver'] = np.where(\n",
    "    (df['drives'] >= 60) & (df['driving_days'] >= 15),  # Condition\n",
    "    1,  # Value if condition is true\n",
    "    0   # Value if condition is false\n",
    ")"
   ]
  },
  {
   "cell_type": "code",
   "execution_count": 12,
   "metadata": {
    "id": "jCAvucIVa3jE"
   },
   "outputs": [
    {
     "name": "stdout",
     "output_type": "stream",
     "text": [
      "professional_driver  label   \n",
      "0                    retained    80.120227\n",
      "                     churned     19.879773\n",
      "1                    retained    92.443730\n",
      "                     churned      7.556270\n",
      "Name: label, dtype: float64\n"
     ]
    }
   ],
   "source": [
    "# Checking count of professionals and non-professionals\n",
    "df['professional_driver'].value_counts()\n",
    "\n",
    "# Calculating churn rate within each class\n",
    "churn_rate = df.groupby('professional_driver')['label'].value_counts(normalize=True)* 100\n",
    "\n",
    "# Displaying churn rates\n",
    "print(churn_rate)"
   ]
  },
  {
   "cell_type": "code",
   "execution_count": 13,
   "metadata": {
    "id": "B34fDk52o2Uk"
   },
   "outputs": [
    {
     "data": {
      "text/html": [
       "<div>\n",
       "<style scoped>\n",
       "    .dataframe tbody tr th:only-of-type {\n",
       "        vertical-align: middle;\n",
       "    }\n",
       "\n",
       "    .dataframe tbody tr th {\n",
       "        vertical-align: top;\n",
       "    }\n",
       "\n",
       "    .dataframe thead th {\n",
       "        text-align: right;\n",
       "    }\n",
       "</style>\n",
       "<table border=\"1\" class=\"dataframe\">\n",
       "  <thead>\n",
       "    <tr style=\"text-align: right;\">\n",
       "      <th></th>\n",
       "      <th>label</th>\n",
       "      <th>sessions</th>\n",
       "      <th>drives</th>\n",
       "      <th>total_sessions</th>\n",
       "      <th>n_days_after_onboarding</th>\n",
       "      <th>total_navigations_fav1</th>\n",
       "      <th>total_navigations_fav2</th>\n",
       "      <th>driven_km_drives</th>\n",
       "      <th>duration_minutes_drives</th>\n",
       "      <th>activity_days</th>\n",
       "      <th>driving_days</th>\n",
       "      <th>device</th>\n",
       "      <th>km_per_driving_day</th>\n",
       "      <th>professional_driver</th>\n",
       "    </tr>\n",
       "  </thead>\n",
       "  <tbody>\n",
       "    <tr>\n",
       "      <th>0</th>\n",
       "      <td>retained</td>\n",
       "      <td>283</td>\n",
       "      <td>226</td>\n",
       "      <td>296.748273</td>\n",
       "      <td>2276</td>\n",
       "      <td>208</td>\n",
       "      <td>0</td>\n",
       "      <td>2628.845068</td>\n",
       "      <td>1985.775061</td>\n",
       "      <td>28</td>\n",
       "      <td>19</td>\n",
       "      <td>Android</td>\n",
       "      <td>138.360267</td>\n",
       "      <td>1</td>\n",
       "    </tr>\n",
       "    <tr>\n",
       "      <th>1</th>\n",
       "      <td>retained</td>\n",
       "      <td>133</td>\n",
       "      <td>107</td>\n",
       "      <td>326.896596</td>\n",
       "      <td>1225</td>\n",
       "      <td>19</td>\n",
       "      <td>64</td>\n",
       "      <td>13715.920550</td>\n",
       "      <td>3160.472914</td>\n",
       "      <td>13</td>\n",
       "      <td>11</td>\n",
       "      <td>iPhone</td>\n",
       "      <td>1246.901868</td>\n",
       "      <td>0</td>\n",
       "    </tr>\n",
       "    <tr>\n",
       "      <th>2</th>\n",
       "      <td>retained</td>\n",
       "      <td>114</td>\n",
       "      <td>95</td>\n",
       "      <td>135.522926</td>\n",
       "      <td>2651</td>\n",
       "      <td>0</td>\n",
       "      <td>0</td>\n",
       "      <td>3059.148818</td>\n",
       "      <td>1610.735904</td>\n",
       "      <td>14</td>\n",
       "      <td>8</td>\n",
       "      <td>Android</td>\n",
       "      <td>382.393602</td>\n",
       "      <td>0</td>\n",
       "    </tr>\n",
       "    <tr>\n",
       "      <th>3</th>\n",
       "      <td>retained</td>\n",
       "      <td>49</td>\n",
       "      <td>40</td>\n",
       "      <td>67.589221</td>\n",
       "      <td>15</td>\n",
       "      <td>322</td>\n",
       "      <td>7</td>\n",
       "      <td>913.591123</td>\n",
       "      <td>587.196542</td>\n",
       "      <td>7</td>\n",
       "      <td>3</td>\n",
       "      <td>iPhone</td>\n",
       "      <td>304.530374</td>\n",
       "      <td>0</td>\n",
       "    </tr>\n",
       "    <tr>\n",
       "      <th>4</th>\n",
       "      <td>retained</td>\n",
       "      <td>84</td>\n",
       "      <td>68</td>\n",
       "      <td>168.247020</td>\n",
       "      <td>1562</td>\n",
       "      <td>166</td>\n",
       "      <td>5</td>\n",
       "      <td>3950.202008</td>\n",
       "      <td>1219.555924</td>\n",
       "      <td>27</td>\n",
       "      <td>18</td>\n",
       "      <td>Android</td>\n",
       "      <td>219.455667</td>\n",
       "      <td>1</td>\n",
       "    </tr>\n",
       "    <tr>\n",
       "      <th>...</th>\n",
       "      <td>...</td>\n",
       "      <td>...</td>\n",
       "      <td>...</td>\n",
       "      <td>...</td>\n",
       "      <td>...</td>\n",
       "      <td>...</td>\n",
       "      <td>...</td>\n",
       "      <td>...</td>\n",
       "      <td>...</td>\n",
       "      <td>...</td>\n",
       "      <td>...</td>\n",
       "      <td>...</td>\n",
       "      <td>...</td>\n",
       "      <td>...</td>\n",
       "    </tr>\n",
       "    <tr>\n",
       "      <th>14994</th>\n",
       "      <td>retained</td>\n",
       "      <td>60</td>\n",
       "      <td>55</td>\n",
       "      <td>207.875622</td>\n",
       "      <td>140</td>\n",
       "      <td>317</td>\n",
       "      <td>0</td>\n",
       "      <td>2890.496901</td>\n",
       "      <td>2186.155708</td>\n",
       "      <td>25</td>\n",
       "      <td>17</td>\n",
       "      <td>iPhone</td>\n",
       "      <td>170.029229</td>\n",
       "      <td>0</td>\n",
       "    </tr>\n",
       "    <tr>\n",
       "      <th>14995</th>\n",
       "      <td>retained</td>\n",
       "      <td>42</td>\n",
       "      <td>35</td>\n",
       "      <td>187.670313</td>\n",
       "      <td>2505</td>\n",
       "      <td>15</td>\n",
       "      <td>10</td>\n",
       "      <td>4062.575194</td>\n",
       "      <td>1208.583193</td>\n",
       "      <td>25</td>\n",
       "      <td>20</td>\n",
       "      <td>Android</td>\n",
       "      <td>203.128760</td>\n",
       "      <td>0</td>\n",
       "    </tr>\n",
       "    <tr>\n",
       "      <th>14996</th>\n",
       "      <td>retained</td>\n",
       "      <td>273</td>\n",
       "      <td>219</td>\n",
       "      <td>422.017241</td>\n",
       "      <td>1873</td>\n",
       "      <td>17</td>\n",
       "      <td>0</td>\n",
       "      <td>3097.825028</td>\n",
       "      <td>1031.278706</td>\n",
       "      <td>18</td>\n",
       "      <td>17</td>\n",
       "      <td>iPhone</td>\n",
       "      <td>182.225002</td>\n",
       "      <td>1</td>\n",
       "    </tr>\n",
       "    <tr>\n",
       "      <th>14997</th>\n",
       "      <td>churned</td>\n",
       "      <td>149</td>\n",
       "      <td>120</td>\n",
       "      <td>180.524184</td>\n",
       "      <td>3150</td>\n",
       "      <td>45</td>\n",
       "      <td>0</td>\n",
       "      <td>4051.758549</td>\n",
       "      <td>254.187763</td>\n",
       "      <td>6</td>\n",
       "      <td>6</td>\n",
       "      <td>iPhone</td>\n",
       "      <td>675.293092</td>\n",
       "      <td>0</td>\n",
       "    </tr>\n",
       "    <tr>\n",
       "      <th>14998</th>\n",
       "      <td>retained</td>\n",
       "      <td>73</td>\n",
       "      <td>58</td>\n",
       "      <td>353.419797</td>\n",
       "      <td>3383</td>\n",
       "      <td>13</td>\n",
       "      <td>51</td>\n",
       "      <td>6030.498773</td>\n",
       "      <td>3042.436423</td>\n",
       "      <td>14</td>\n",
       "      <td>13</td>\n",
       "      <td>iPhone</td>\n",
       "      <td>463.884521</td>\n",
       "      <td>0</td>\n",
       "    </tr>\n",
       "  </tbody>\n",
       "</table>\n",
       "<p>14299 rows × 14 columns</p>\n",
       "</div>"
      ],
      "text/plain": [
       "          label  sessions  drives  total_sessions  n_days_after_onboarding  \\\n",
       "0      retained       283     226      296.748273                     2276   \n",
       "1      retained       133     107      326.896596                     1225   \n",
       "2      retained       114      95      135.522926                     2651   \n",
       "3      retained        49      40       67.589221                       15   \n",
       "4      retained        84      68      168.247020                     1562   \n",
       "...         ...       ...     ...             ...                      ...   \n",
       "14994  retained        60      55      207.875622                      140   \n",
       "14995  retained        42      35      187.670313                     2505   \n",
       "14996  retained       273     219      422.017241                     1873   \n",
       "14997   churned       149     120      180.524184                     3150   \n",
       "14998  retained        73      58      353.419797                     3383   \n",
       "\n",
       "       total_navigations_fav1  total_navigations_fav2  driven_km_drives  \\\n",
       "0                         208                       0       2628.845068   \n",
       "1                          19                      64      13715.920550   \n",
       "2                           0                       0       3059.148818   \n",
       "3                         322                       7        913.591123   \n",
       "4                         166                       5       3950.202008   \n",
       "...                       ...                     ...               ...   \n",
       "14994                     317                       0       2890.496901   \n",
       "14995                      15                      10       4062.575194   \n",
       "14996                      17                       0       3097.825028   \n",
       "14997                      45                       0       4051.758549   \n",
       "14998                      13                      51       6030.498773   \n",
       "\n",
       "       duration_minutes_drives  activity_days  driving_days   device  \\\n",
       "0                  1985.775061             28            19  Android   \n",
       "1                  3160.472914             13            11   iPhone   \n",
       "2                  1610.735904             14             8  Android   \n",
       "3                   587.196542              7             3   iPhone   \n",
       "4                  1219.555924             27            18  Android   \n",
       "...                        ...            ...           ...      ...   \n",
       "14994              2186.155708             25            17   iPhone   \n",
       "14995              1208.583193             25            20  Android   \n",
       "14996              1031.278706             18            17   iPhone   \n",
       "14997               254.187763              6             6   iPhone   \n",
       "14998              3042.436423             14            13   iPhone   \n",
       "\n",
       "       km_per_driving_day  professional_driver  \n",
       "0              138.360267                    1  \n",
       "1             1246.901868                    0  \n",
       "2              382.393602                    0  \n",
       "3              304.530374                    0  \n",
       "4              219.455667                    1  \n",
       "...                   ...                  ...  \n",
       "14994          170.029229                    0  \n",
       "14995          203.128760                    0  \n",
       "14996          182.225002                    1  \n",
       "14997          675.293092                    0  \n",
       "14998          463.884521                    0  \n",
       "\n",
       "[14299 rows x 14 columns]"
      ]
     },
     "execution_count": 13,
     "metadata": {},
     "output_type": "execute_result"
    }
   ],
   "source": [
    "# Dropping rows with missing data in the label column (these observations comprise less than 5% of the data)\n",
    "df.dropna(subset=['label'], axis=0)"
   ]
  },
  {
   "cell_type": "markdown",
   "metadata": {
    "id": "UV3KLq7LpcWB"
   },
   "source": [
    "#### **Imputing outliers**\n",
    "\n",
    "Previously, I determined that several of the variables had clear signs of containing outliers (in the EDA stage):\n",
    "\n",
    "* `sessions`\n",
    "* `drives`\n",
    "* `total_sessions`\n",
    "* `total_navigations_fav1`\n",
    "* `total_navigations_fav2`\n",
    "* `driven_km_drives`\n",
    "* `duration_minutes_drives`\n",
    "\n",
    "For this analysis, I impute the outlying values for these columns and replace it with 95th percentile value.\n"
   ]
  },
  {
   "cell_type": "code",
   "execution_count": 14,
   "metadata": {
    "id": "7fRaU2JKpyXg"
   },
   "outputs": [
    {
     "data": {
      "text/html": [
       "<div>\n",
       "<style scoped>\n",
       "    .dataframe tbody tr th:only-of-type {\n",
       "        vertical-align: middle;\n",
       "    }\n",
       "\n",
       "    .dataframe tbody tr th {\n",
       "        vertical-align: top;\n",
       "    }\n",
       "\n",
       "    .dataframe thead th {\n",
       "        text-align: right;\n",
       "    }\n",
       "</style>\n",
       "<table border=\"1\" class=\"dataframe\">\n",
       "  <thead>\n",
       "    <tr style=\"text-align: right;\">\n",
       "      <th></th>\n",
       "      <th>sessions</th>\n",
       "      <th>drives</th>\n",
       "      <th>total_sessions</th>\n",
       "      <th>n_days_after_onboarding</th>\n",
       "      <th>total_navigations_fav1</th>\n",
       "      <th>total_navigations_fav2</th>\n",
       "      <th>driven_km_drives</th>\n",
       "      <th>duration_minutes_drives</th>\n",
       "      <th>activity_days</th>\n",
       "      <th>driving_days</th>\n",
       "      <th>km_per_driving_day</th>\n",
       "      <th>professional_driver</th>\n",
       "    </tr>\n",
       "  </thead>\n",
       "  <tbody>\n",
       "    <tr>\n",
       "      <th>count</th>\n",
       "      <td>14999.000000</td>\n",
       "      <td>14999.000000</td>\n",
       "      <td>14999.000000</td>\n",
       "      <td>14999.000000</td>\n",
       "      <td>14999.000000</td>\n",
       "      <td>14999.000000</td>\n",
       "      <td>14999.000000</td>\n",
       "      <td>14999.000000</td>\n",
       "      <td>14999.000000</td>\n",
       "      <td>14999.000000</td>\n",
       "      <td>14999.000000</td>\n",
       "      <td>14999.000000</td>\n",
       "    </tr>\n",
       "    <tr>\n",
       "      <th>mean</th>\n",
       "      <td>76.568705</td>\n",
       "      <td>64.058204</td>\n",
       "      <td>184.031320</td>\n",
       "      <td>1749.837789</td>\n",
       "      <td>114.415228</td>\n",
       "      <td>27.214281</td>\n",
       "      <td>3939.632764</td>\n",
       "      <td>1789.647426</td>\n",
       "      <td>15.537102</td>\n",
       "      <td>12.179879</td>\n",
       "      <td>578.963113</td>\n",
       "      <td>0.172945</td>\n",
       "    </tr>\n",
       "    <tr>\n",
       "      <th>std</th>\n",
       "      <td>67.297958</td>\n",
       "      <td>55.306924</td>\n",
       "      <td>118.600463</td>\n",
       "      <td>1008.513876</td>\n",
       "      <td>124.686795</td>\n",
       "      <td>36.735583</td>\n",
       "      <td>2216.041510</td>\n",
       "      <td>1222.705167</td>\n",
       "      <td>9.004655</td>\n",
       "      <td>7.824036</td>\n",
       "      <td>1030.094384</td>\n",
       "      <td>0.378212</td>\n",
       "    </tr>\n",
       "    <tr>\n",
       "      <th>min</th>\n",
       "      <td>0.000000</td>\n",
       "      <td>0.000000</td>\n",
       "      <td>0.220211</td>\n",
       "      <td>4.000000</td>\n",
       "      <td>0.000000</td>\n",
       "      <td>0.000000</td>\n",
       "      <td>60.441250</td>\n",
       "      <td>18.282082</td>\n",
       "      <td>0.000000</td>\n",
       "      <td>0.000000</td>\n",
       "      <td>0.000000</td>\n",
       "      <td>0.000000</td>\n",
       "    </tr>\n",
       "    <tr>\n",
       "      <th>25%</th>\n",
       "      <td>23.000000</td>\n",
       "      <td>20.000000</td>\n",
       "      <td>90.661156</td>\n",
       "      <td>878.000000</td>\n",
       "      <td>9.000000</td>\n",
       "      <td>0.000000</td>\n",
       "      <td>2212.600607</td>\n",
       "      <td>835.996260</td>\n",
       "      <td>8.000000</td>\n",
       "      <td>5.000000</td>\n",
       "      <td>136.238895</td>\n",
       "      <td>0.000000</td>\n",
       "    </tr>\n",
       "    <tr>\n",
       "      <th>50%</th>\n",
       "      <td>56.000000</td>\n",
       "      <td>48.000000</td>\n",
       "      <td>159.568115</td>\n",
       "      <td>1741.000000</td>\n",
       "      <td>71.000000</td>\n",
       "      <td>9.000000</td>\n",
       "      <td>3493.858085</td>\n",
       "      <td>1478.249859</td>\n",
       "      <td>16.000000</td>\n",
       "      <td>12.000000</td>\n",
       "      <td>272.889272</td>\n",
       "      <td>0.000000</td>\n",
       "    </tr>\n",
       "    <tr>\n",
       "      <th>75%</th>\n",
       "      <td>112.000000</td>\n",
       "      <td>93.000000</td>\n",
       "      <td>254.192341</td>\n",
       "      <td>2623.500000</td>\n",
       "      <td>178.000000</td>\n",
       "      <td>43.000000</td>\n",
       "      <td>5289.861262</td>\n",
       "      <td>2464.362632</td>\n",
       "      <td>23.000000</td>\n",
       "      <td>19.000000</td>\n",
       "      <td>558.686918</td>\n",
       "      <td>0.000000</td>\n",
       "    </tr>\n",
       "    <tr>\n",
       "      <th>max</th>\n",
       "      <td>243.000000</td>\n",
       "      <td>201.000000</td>\n",
       "      <td>454.363204</td>\n",
       "      <td>3500.000000</td>\n",
       "      <td>424.000000</td>\n",
       "      <td>124.000000</td>\n",
       "      <td>8889.794236</td>\n",
       "      <td>4668.899349</td>\n",
       "      <td>31.000000</td>\n",
       "      <td>30.000000</td>\n",
       "      <td>15420.234110</td>\n",
       "      <td>1.000000</td>\n",
       "    </tr>\n",
       "  </tbody>\n",
       "</table>\n",
       "</div>"
      ],
      "text/plain": [
       "           sessions        drives  total_sessions  n_days_after_onboarding  \\\n",
       "count  14999.000000  14999.000000    14999.000000             14999.000000   \n",
       "mean      76.568705     64.058204      184.031320              1749.837789   \n",
       "std       67.297958     55.306924      118.600463              1008.513876   \n",
       "min        0.000000      0.000000        0.220211                 4.000000   \n",
       "25%       23.000000     20.000000       90.661156               878.000000   \n",
       "50%       56.000000     48.000000      159.568115              1741.000000   \n",
       "75%      112.000000     93.000000      254.192341              2623.500000   \n",
       "max      243.000000    201.000000      454.363204              3500.000000   \n",
       "\n",
       "       total_navigations_fav1  total_navigations_fav2  driven_km_drives  \\\n",
       "count            14999.000000            14999.000000      14999.000000   \n",
       "mean               114.415228               27.214281       3939.632764   \n",
       "std                124.686795               36.735583       2216.041510   \n",
       "min                  0.000000                0.000000         60.441250   \n",
       "25%                  9.000000                0.000000       2212.600607   \n",
       "50%                 71.000000                9.000000       3493.858085   \n",
       "75%                178.000000               43.000000       5289.861262   \n",
       "max                424.000000              124.000000       8889.794236   \n",
       "\n",
       "       duration_minutes_drives  activity_days  driving_days  \\\n",
       "count             14999.000000   14999.000000  14999.000000   \n",
       "mean               1789.647426      15.537102     12.179879   \n",
       "std                1222.705167       9.004655      7.824036   \n",
       "min                  18.282082       0.000000      0.000000   \n",
       "25%                 835.996260       8.000000      5.000000   \n",
       "50%                1478.249859      16.000000     12.000000   \n",
       "75%                2464.362632      23.000000     19.000000   \n",
       "max                4668.899349      31.000000     30.000000   \n",
       "\n",
       "       km_per_driving_day  professional_driver  \n",
       "count        14999.000000         14999.000000  \n",
       "mean           578.963113             0.172945  \n",
       "std           1030.094384             0.378212  \n",
       "min              0.000000             0.000000  \n",
       "25%            136.238895             0.000000  \n",
       "50%            272.889272             0.000000  \n",
       "75%            558.686918             0.000000  \n",
       "max          15420.234110             1.000000  "
      ]
     },
     "execution_count": 14,
     "metadata": {},
     "output_type": "execute_result"
    }
   ],
   "source": [
    "# Listing columns to impute outliers\n",
    "columns_with_outliers = [\n",
    "    'sessions',\n",
    "    'drives',\n",
    "    'total_sessions',\n",
    "    'total_navigations_fav1',\n",
    "    'total_navigations_fav2',\n",
    "    'driven_km_drives',\n",
    "    'duration_minutes_drives'\n",
    "]\n",
    "\n",
    "# Iterating over each column and cap values at the 95th percentile\n",
    "for col in columns_with_outliers:\n",
    "    percentile_95 = df[col].quantile(0.95)                              # Calculating the 95th percentile for the column\n",
    "    df[col] = np.where(df[col] > percentile_95, percentile_95, df[col]) # Replacing values greater than the 95th percentile\n",
    "\n",
    "# Calling .describe() to verify changes\n",
    "df.describe()"
   ]
  },
  {
   "cell_type": "markdown",
   "metadata": {
    "id": "E9dLJfBHAxNy"
   },
   "source": [
    "#### **Encoding categorical variables**"
   ]
  },
  {
   "cell_type": "code",
   "execution_count": 15,
   "metadata": {
    "id": "XvcP3FxpAyws"
   },
   "outputs": [],
   "source": [
    "# Creating a binary, label2 column\n",
    "df['label2'] = np.where(df['label'] == 'churned', 1, 0) # Assigning a 0 for all retained users & 1 for churned users"
   ]
  },
  {
   "cell_type": "markdown",
   "metadata": {
    "id": "HMj6QkK1cLmS"
   },
   "source": [
    "### **Determining whether assumptions for logistic regression have been met**\n"
   ]
  },
  {
   "cell_type": "markdown",
   "metadata": {
    "id": "2VByuTmwdoi_"
   },
   "source": [
    "#### **Collinearity**"
   ]
  },
  {
   "cell_type": "code",
   "execution_count": 16,
   "metadata": {
    "id": "SClNm5hWotj6"
   },
   "outputs": [
    {
     "data": {
      "text/html": [
       "<div>\n",
       "<style scoped>\n",
       "    .dataframe tbody tr th:only-of-type {\n",
       "        vertical-align: middle;\n",
       "    }\n",
       "\n",
       "    .dataframe tbody tr th {\n",
       "        vertical-align: top;\n",
       "    }\n",
       "\n",
       "    .dataframe thead th {\n",
       "        text-align: right;\n",
       "    }\n",
       "</style>\n",
       "<table border=\"1\" class=\"dataframe\">\n",
       "  <thead>\n",
       "    <tr style=\"text-align: right;\">\n",
       "      <th></th>\n",
       "      <th>sessions</th>\n",
       "      <th>drives</th>\n",
       "      <th>total_sessions</th>\n",
       "      <th>n_days_after_onboarding</th>\n",
       "      <th>total_navigations_fav1</th>\n",
       "      <th>total_navigations_fav2</th>\n",
       "      <th>driven_km_drives</th>\n",
       "      <th>duration_minutes_drives</th>\n",
       "      <th>activity_days</th>\n",
       "      <th>driving_days</th>\n",
       "      <th>km_per_driving_day</th>\n",
       "      <th>professional_driver</th>\n",
       "      <th>label2</th>\n",
       "    </tr>\n",
       "  </thead>\n",
       "  <tbody>\n",
       "    <tr>\n",
       "      <th>sessions</th>\n",
       "      <td>1.000000</td>\n",
       "      <td>0.996907</td>\n",
       "      <td>0.595796</td>\n",
       "      <td>0.006480</td>\n",
       "      <td>0.003123</td>\n",
       "      <td>0.009746</td>\n",
       "      <td>0.001425</td>\n",
       "      <td>-0.005364</td>\n",
       "      <td>0.024374</td>\n",
       "      <td>0.018518</td>\n",
       "      <td>-0.011099</td>\n",
       "      <td>0.443151</td>\n",
       "      <td>0.033695</td>\n",
       "    </tr>\n",
       "    <tr>\n",
       "      <th>drives</th>\n",
       "      <td>0.996907</td>\n",
       "      <td>1.000000</td>\n",
       "      <td>0.593945</td>\n",
       "      <td>0.006198</td>\n",
       "      <td>0.002307</td>\n",
       "      <td>0.010365</td>\n",
       "      <td>0.001789</td>\n",
       "      <td>-0.004763</td>\n",
       "      <td>0.023821</td>\n",
       "      <td>0.018036</td>\n",
       "      <td>-0.010609</td>\n",
       "      <td>0.443705</td>\n",
       "      <td>0.034528</td>\n",
       "    </tr>\n",
       "    <tr>\n",
       "      <th>total_sessions</th>\n",
       "      <td>0.595796</td>\n",
       "      <td>0.593945</td>\n",
       "      <td>1.000000</td>\n",
       "      <td>0.005328</td>\n",
       "      <td>0.002377</td>\n",
       "      <td>0.008061</td>\n",
       "      <td>-0.000835</td>\n",
       "      <td>-0.001456</td>\n",
       "      <td>0.015932</td>\n",
       "      <td>0.012568</td>\n",
       "      <td>-0.014563</td>\n",
       "      <td>0.254599</td>\n",
       "      <td>0.022467</td>\n",
       "    </tr>\n",
       "    <tr>\n",
       "      <th>n_days_after_onboarding</th>\n",
       "      <td>0.006480</td>\n",
       "      <td>0.006198</td>\n",
       "      <td>0.005328</td>\n",
       "      <td>1.000000</td>\n",
       "      <td>0.001232</td>\n",
       "      <td>-0.007468</td>\n",
       "      <td>-0.002852</td>\n",
       "      <td>-0.009140</td>\n",
       "      <td>-0.009725</td>\n",
       "      <td>-0.008563</td>\n",
       "      <td>0.011631</td>\n",
       "      <td>0.001364</td>\n",
       "      <td>-0.124711</td>\n",
       "    </tr>\n",
       "    <tr>\n",
       "      <th>total_navigations_fav1</th>\n",
       "      <td>0.003123</td>\n",
       "      <td>0.002307</td>\n",
       "      <td>0.002377</td>\n",
       "      <td>0.001232</td>\n",
       "      <td>1.000000</td>\n",
       "      <td>0.002467</td>\n",
       "      <td>-0.007898</td>\n",
       "      <td>0.002722</td>\n",
       "      <td>0.012176</td>\n",
       "      <td>0.011339</td>\n",
       "      <td>-0.002056</td>\n",
       "      <td>0.001135</td>\n",
       "      <td>0.051766</td>\n",
       "    </tr>\n",
       "    <tr>\n",
       "      <th>total_navigations_fav2</th>\n",
       "      <td>0.009746</td>\n",
       "      <td>0.010365</td>\n",
       "      <td>0.008061</td>\n",
       "      <td>-0.007468</td>\n",
       "      <td>0.002467</td>\n",
       "      <td>1.000000</td>\n",
       "      <td>0.003831</td>\n",
       "      <td>-0.000951</td>\n",
       "      <td>-0.003489</td>\n",
       "      <td>0.003197</td>\n",
       "      <td>0.004308</td>\n",
       "      <td>0.006892</td>\n",
       "      <td>0.014263</td>\n",
       "    </tr>\n",
       "    <tr>\n",
       "      <th>driven_km_drives</th>\n",
       "      <td>0.001425</td>\n",
       "      <td>0.001789</td>\n",
       "      <td>-0.000835</td>\n",
       "      <td>-0.002852</td>\n",
       "      <td>-0.007898</td>\n",
       "      <td>0.003831</td>\n",
       "      <td>1.000000</td>\n",
       "      <td>0.690996</td>\n",
       "      <td>-0.005620</td>\n",
       "      <td>-0.007816</td>\n",
       "      <td>0.343509</td>\n",
       "      <td>0.000219</td>\n",
       "      <td>0.020131</td>\n",
       "    </tr>\n",
       "    <tr>\n",
       "      <th>duration_minutes_drives</th>\n",
       "      <td>-0.005364</td>\n",
       "      <td>-0.004763</td>\n",
       "      <td>-0.001456</td>\n",
       "      <td>-0.009140</td>\n",
       "      <td>0.002722</td>\n",
       "      <td>-0.000951</td>\n",
       "      <td>0.690996</td>\n",
       "      <td>1.000000</td>\n",
       "      <td>-0.005852</td>\n",
       "      <td>-0.007585</td>\n",
       "      <td>0.238133</td>\n",
       "      <td>-0.010022</td>\n",
       "      <td>0.040527</td>\n",
       "    </tr>\n",
       "    <tr>\n",
       "      <th>activity_days</th>\n",
       "      <td>0.024374</td>\n",
       "      <td>0.023821</td>\n",
       "      <td>0.015932</td>\n",
       "      <td>-0.009725</td>\n",
       "      <td>0.012176</td>\n",
       "      <td>-0.003489</td>\n",
       "      <td>-0.005620</td>\n",
       "      <td>-0.005852</td>\n",
       "      <td>1.000000</td>\n",
       "      <td>0.947706</td>\n",
       "      <td>-0.397062</td>\n",
       "      <td>0.452947</td>\n",
       "      <td>-0.295190</td>\n",
       "    </tr>\n",
       "    <tr>\n",
       "      <th>driving_days</th>\n",
       "      <td>0.018518</td>\n",
       "      <td>0.018036</td>\n",
       "      <td>0.012568</td>\n",
       "      <td>-0.008563</td>\n",
       "      <td>0.011339</td>\n",
       "      <td>0.003197</td>\n",
       "      <td>-0.007816</td>\n",
       "      <td>-0.007585</td>\n",
       "      <td>0.947706</td>\n",
       "      <td>1.000000</td>\n",
       "      <td>-0.407633</td>\n",
       "      <td>0.468653</td>\n",
       "      <td>-0.286080</td>\n",
       "    </tr>\n",
       "    <tr>\n",
       "      <th>km_per_driving_day</th>\n",
       "      <td>-0.011099</td>\n",
       "      <td>-0.010609</td>\n",
       "      <td>-0.014563</td>\n",
       "      <td>0.011631</td>\n",
       "      <td>-0.002056</td>\n",
       "      <td>0.004308</td>\n",
       "      <td>0.343509</td>\n",
       "      <td>0.238133</td>\n",
       "      <td>-0.397062</td>\n",
       "      <td>-0.407633</td>\n",
       "      <td>1.000000</td>\n",
       "      <td>-0.165346</td>\n",
       "      <td>0.146798</td>\n",
       "    </tr>\n",
       "    <tr>\n",
       "      <th>professional_driver</th>\n",
       "      <td>0.443151</td>\n",
       "      <td>0.443705</td>\n",
       "      <td>0.254599</td>\n",
       "      <td>0.001364</td>\n",
       "      <td>0.001135</td>\n",
       "      <td>0.006892</td>\n",
       "      <td>0.000219</td>\n",
       "      <td>-0.010022</td>\n",
       "      <td>0.452947</td>\n",
       "      <td>0.468653</td>\n",
       "      <td>-0.165346</td>\n",
       "      <td>1.000000</td>\n",
       "      <td>-0.117857</td>\n",
       "    </tr>\n",
       "    <tr>\n",
       "      <th>label2</th>\n",
       "      <td>0.033695</td>\n",
       "      <td>0.034528</td>\n",
       "      <td>0.022467</td>\n",
       "      <td>-0.124711</td>\n",
       "      <td>0.051766</td>\n",
       "      <td>0.014263</td>\n",
       "      <td>0.020131</td>\n",
       "      <td>0.040527</td>\n",
       "      <td>-0.295190</td>\n",
       "      <td>-0.286080</td>\n",
       "      <td>0.146798</td>\n",
       "      <td>-0.117857</td>\n",
       "      <td>1.000000</td>\n",
       "    </tr>\n",
       "  </tbody>\n",
       "</table>\n",
       "</div>"
      ],
      "text/plain": [
       "                         sessions    drives  total_sessions  \\\n",
       "sessions                 1.000000  0.996907        0.595796   \n",
       "drives                   0.996907  1.000000        0.593945   \n",
       "total_sessions           0.595796  0.593945        1.000000   \n",
       "n_days_after_onboarding  0.006480  0.006198        0.005328   \n",
       "total_navigations_fav1   0.003123  0.002307        0.002377   \n",
       "total_navigations_fav2   0.009746  0.010365        0.008061   \n",
       "driven_km_drives         0.001425  0.001789       -0.000835   \n",
       "duration_minutes_drives -0.005364 -0.004763       -0.001456   \n",
       "activity_days            0.024374  0.023821        0.015932   \n",
       "driving_days             0.018518  0.018036        0.012568   \n",
       "km_per_driving_day      -0.011099 -0.010609       -0.014563   \n",
       "professional_driver      0.443151  0.443705        0.254599   \n",
       "label2                   0.033695  0.034528        0.022467   \n",
       "\n",
       "                         n_days_after_onboarding  total_navigations_fav1  \\\n",
       "sessions                                0.006480                0.003123   \n",
       "drives                                  0.006198                0.002307   \n",
       "total_sessions                          0.005328                0.002377   \n",
       "n_days_after_onboarding                 1.000000                0.001232   \n",
       "total_navigations_fav1                  0.001232                1.000000   \n",
       "total_navigations_fav2                 -0.007468                0.002467   \n",
       "driven_km_drives                       -0.002852               -0.007898   \n",
       "duration_minutes_drives                -0.009140                0.002722   \n",
       "activity_days                          -0.009725                0.012176   \n",
       "driving_days                           -0.008563                0.011339   \n",
       "km_per_driving_day                      0.011631               -0.002056   \n",
       "professional_driver                     0.001364                0.001135   \n",
       "label2                                 -0.124711                0.051766   \n",
       "\n",
       "                         total_navigations_fav2  driven_km_drives  \\\n",
       "sessions                               0.009746          0.001425   \n",
       "drives                                 0.010365          0.001789   \n",
       "total_sessions                         0.008061         -0.000835   \n",
       "n_days_after_onboarding               -0.007468         -0.002852   \n",
       "total_navigations_fav1                 0.002467         -0.007898   \n",
       "total_navigations_fav2                 1.000000          0.003831   \n",
       "driven_km_drives                       0.003831          1.000000   \n",
       "duration_minutes_drives               -0.000951          0.690996   \n",
       "activity_days                         -0.003489         -0.005620   \n",
       "driving_days                           0.003197         -0.007816   \n",
       "km_per_driving_day                     0.004308          0.343509   \n",
       "professional_driver                    0.006892          0.000219   \n",
       "label2                                 0.014263          0.020131   \n",
       "\n",
       "                         duration_minutes_drives  activity_days  driving_days  \\\n",
       "sessions                               -0.005364       0.024374      0.018518   \n",
       "drives                                 -0.004763       0.023821      0.018036   \n",
       "total_sessions                         -0.001456       0.015932      0.012568   \n",
       "n_days_after_onboarding                -0.009140      -0.009725     -0.008563   \n",
       "total_navigations_fav1                  0.002722       0.012176      0.011339   \n",
       "total_navigations_fav2                 -0.000951      -0.003489      0.003197   \n",
       "driven_km_drives                        0.690996      -0.005620     -0.007816   \n",
       "duration_minutes_drives                 1.000000      -0.005852     -0.007585   \n",
       "activity_days                          -0.005852       1.000000      0.947706   \n",
       "driving_days                           -0.007585       0.947706      1.000000   \n",
       "km_per_driving_day                      0.238133      -0.397062     -0.407633   \n",
       "professional_driver                    -0.010022       0.452947      0.468653   \n",
       "label2                                  0.040527      -0.295190     -0.286080   \n",
       "\n",
       "                         km_per_driving_day  professional_driver    label2  \n",
       "sessions                          -0.011099             0.443151  0.033695  \n",
       "drives                            -0.010609             0.443705  0.034528  \n",
       "total_sessions                    -0.014563             0.254599  0.022467  \n",
       "n_days_after_onboarding            0.011631             0.001364 -0.124711  \n",
       "total_navigations_fav1            -0.002056             0.001135  0.051766  \n",
       "total_navigations_fav2             0.004308             0.006892  0.014263  \n",
       "driven_km_drives                   0.343509             0.000219  0.020131  \n",
       "duration_minutes_drives            0.238133            -0.010022  0.040527  \n",
       "activity_days                     -0.397062             0.452947 -0.295190  \n",
       "driving_days                      -0.407633             0.468653 -0.286080  \n",
       "km_per_driving_day                 1.000000            -0.165346  0.146798  \n",
       "professional_driver               -0.165346             1.000000 -0.117857  \n",
       "label2                             0.146798            -0.117857  1.000000  "
      ]
     },
     "execution_count": 16,
     "metadata": {},
     "output_type": "execute_result"
    }
   ],
   "source": [
    "# Generating a correlation matrix\n",
    "df.corr()"
   ]
  },
  {
   "cell_type": "code",
   "execution_count": 17,
   "metadata": {
    "id": "5HVnvWmXrOCO"
   },
   "outputs": [
    {
     "data": {
      "text/plain": [
       "<AxesSubplot:>"
      ]
     },
     "execution_count": 17,
     "metadata": {},
     "output_type": "execute_result"
    },
    {
     "data": {
      "image/png": "[encoded data removed]",
      "text/plain": [
       "<Figure size 864x720 with 2 Axes>"
      ]
     },
     "metadata": {
      "needs_background": "light"
     },
     "output_type": "display_data"
    }
   ],
   "source": [
    "# Ploting a correlation heatmap\n",
    "correlation_matrix = df.corr()\n",
    "plt.figure(figsize=(12, 10))  # Set the figure size\n",
    "sns.heatmap(\n",
    "    correlation_matrix,\n",
    "    annot=True,         # Annotating each cell with the numeric value\n",
    "    fmt=\".2f\",          # Formating the numbers to two decimal places\n",
    "    cmap=\"coolwarm\",    # Using the coolwarm colormap\n",
    "    cbar=True,          # Displaying the color bar\n",
    "    vmin = -1,          # Setting the minimum value of the color scale to -1 (strong negative correlation)\n",
    "    vmax=1)             # Setting the maximum value of the color scale to 1 (strong positive correlation)\n"
   ]
  },
  {
   "cell_type": "markdown",
   "metadata": {
    "id": "EfkKRuFSgmiI"
   },
   "source": [
    "Variables that are multicolinear to each other are: \n",
    "`sessions` and `drives`: 1.0\n",
    "`driving_days` and `activity_days`: 0.95"
   ]
  },
  {
   "cell_type": "code",
   "execution_count": 18,
   "metadata": {
    "id": "QvDpwcQm0f35"
   },
   "outputs": [],
   "source": [
    "# Creating a new variable, device2\n",
    "df['device2'] = np.where(df['device'] == 'Android', 0, 1) # Assigning 0 for Android and 1 for iPhone"
   ]
  },
  {
   "cell_type": "code",
   "execution_count": 19,
   "metadata": {
    "id": "AzcDgLRET4d7"
   },
   "outputs": [],
   "source": [
    "# Isolating predictor variables (independent variables)\n",
    "X = df.drop(columns = ['label', 'label2', 'device', 'sessions', 'driving_days'])"
   ]
  },
  {
   "cell_type": "code",
   "execution_count": 20,
   "metadata": {
    "id": "h0QFCHIJC3-I"
   },
   "outputs": [],
   "source": [
    "# Isolating target variable (dependent variable)\n",
    "y = df['label2']"
   ]
  },
  {
   "cell_type": "code",
   "execution_count": 21,
   "metadata": {
    "id": "ulDZdfSS0FyD"
   },
   "outputs": [],
   "source": [
    "# Performing the train-test split\n",
    "X_train, X_test, y_train, y_test = train_test_split(\n",
    "    X, y, \n",
    "    test_size=0.2,    # Using 20% of the data for testing\n",
    "    random_state=42,  # Setting a random state for reproducibility\n",
    "    stratify=y        # Stratifying split to ensure that the minority class appears in both train and test sets \n",
    ")"
   ]
  },
  {
   "cell_type": "code",
   "execution_count": 22,
   "metadata": {
    "id": "Q1vdmEo3mKmO"
   },
   "outputs": [
    {
     "data": {
      "text/html": [
       "<div>\n",
       "<style scoped>\n",
       "    .dataframe tbody tr th:only-of-type {\n",
       "        vertical-align: middle;\n",
       "    }\n",
       "\n",
       "    .dataframe tbody tr th {\n",
       "        vertical-align: top;\n",
       "    }\n",
       "\n",
       "    .dataframe thead th {\n",
       "        text-align: right;\n",
       "    }\n",
       "</style>\n",
       "<table border=\"1\" class=\"dataframe\">\n",
       "  <thead>\n",
       "    <tr style=\"text-align: right;\">\n",
       "      <th></th>\n",
       "      <th>drives</th>\n",
       "      <th>total_sessions</th>\n",
       "      <th>n_days_after_onboarding</th>\n",
       "      <th>total_navigations_fav1</th>\n",
       "      <th>total_navigations_fav2</th>\n",
       "      <th>driven_km_drives</th>\n",
       "      <th>duration_minutes_drives</th>\n",
       "      <th>activity_days</th>\n",
       "      <th>km_per_driving_day</th>\n",
       "      <th>professional_driver</th>\n",
       "      <th>device2</th>\n",
       "    </tr>\n",
       "  </thead>\n",
       "  <tbody>\n",
       "    <tr>\n",
       "      <th>13490</th>\n",
       "      <td>41.0</td>\n",
       "      <td>193.805177</td>\n",
       "      <td>3423</td>\n",
       "      <td>424.0</td>\n",
       "      <td>124.0</td>\n",
       "      <td>1811.230633</td>\n",
       "      <td>1467.401184</td>\n",
       "      <td>21</td>\n",
       "      <td>150.935886</td>\n",
       "      <td>0</td>\n",
       "      <td>1</td>\n",
       "    </tr>\n",
       "    <tr>\n",
       "      <th>9318</th>\n",
       "      <td>31.0</td>\n",
       "      <td>108.045409</td>\n",
       "      <td>1550</td>\n",
       "      <td>78.0</td>\n",
       "      <td>44.0</td>\n",
       "      <td>1924.213637</td>\n",
       "      <td>1495.221262</td>\n",
       "      <td>10</td>\n",
       "      <td>641.404546</td>\n",
       "      <td>0</td>\n",
       "      <td>1</td>\n",
       "    </tr>\n",
       "    <tr>\n",
       "      <th>477</th>\n",
       "      <td>6.0</td>\n",
       "      <td>183.313599</td>\n",
       "      <td>749</td>\n",
       "      <td>161.0</td>\n",
       "      <td>21.0</td>\n",
       "      <td>2058.202902</td>\n",
       "      <td>994.834866</td>\n",
       "      <td>14</td>\n",
       "      <td>294.028986</td>\n",
       "      <td>0</td>\n",
       "      <td>1</td>\n",
       "    </tr>\n",
       "    <tr>\n",
       "      <th>8746</th>\n",
       "      <td>163.0</td>\n",
       "      <td>334.877779</td>\n",
       "      <td>1394</td>\n",
       "      <td>0.0</td>\n",
       "      <td>29.0</td>\n",
       "      <td>3114.690598</td>\n",
       "      <td>888.966159</td>\n",
       "      <td>0</td>\n",
       "      <td>0.000000</td>\n",
       "      <td>0</td>\n",
       "      <td>1</td>\n",
       "    </tr>\n",
       "    <tr>\n",
       "      <th>6801</th>\n",
       "      <td>78.0</td>\n",
       "      <td>179.534419</td>\n",
       "      <td>2081</td>\n",
       "      <td>205.0</td>\n",
       "      <td>59.0</td>\n",
       "      <td>6627.447755</td>\n",
       "      <td>304.741889</td>\n",
       "      <td>3</td>\n",
       "      <td>0.000000</td>\n",
       "      <td>0</td>\n",
       "      <td>1</td>\n",
       "    </tr>\n",
       "  </tbody>\n",
       "</table>\n",
       "</div>"
      ],
      "text/plain": [
       "       drives  total_sessions  n_days_after_onboarding  \\\n",
       "13490    41.0      193.805177                     3423   \n",
       "9318     31.0      108.045409                     1550   \n",
       "477       6.0      183.313599                      749   \n",
       "8746    163.0      334.877779                     1394   \n",
       "6801     78.0      179.534419                     2081   \n",
       "\n",
       "       total_navigations_fav1  total_navigations_fav2  driven_km_drives  \\\n",
       "13490                   424.0                   124.0       1811.230633   \n",
       "9318                     78.0                    44.0       1924.213637   \n",
       "477                     161.0                    21.0       2058.202902   \n",
       "8746                      0.0                    29.0       3114.690598   \n",
       "6801                    205.0                    59.0       6627.447755   \n",
       "\n",
       "       duration_minutes_drives  activity_days  km_per_driving_day  \\\n",
       "13490              1467.401184             21          150.935886   \n",
       "9318               1495.221262             10          641.404546   \n",
       "477                 994.834866             14          294.028986   \n",
       "8746                888.966159              0            0.000000   \n",
       "6801                304.741889              3            0.000000   \n",
       "\n",
       "       professional_driver  device2  \n",
       "13490                    0        1  \n",
       "9318                     0        1  \n",
       "477                      0        1  \n",
       "8746                     0        1  \n",
       "6801                     0        1  "
      ]
     },
     "execution_count": 22,
     "metadata": {},
     "output_type": "execute_result"
    }
   ],
   "source": [
    "# Calling .head() on X_train\n",
    "X_train.head()"
   ]
  },
  {
   "cell_type": "code",
   "execution_count": 23,
   "metadata": {
    "id": "zrTNaDVZheyp"
   },
   "outputs": [
    {
     "data": {
      "text/html": [
       "<style>#sk-container-id-1 {color: black;background-color: white;}#sk-container-id-1 pre{padding: 0;}#sk-container-id-1 div.sk-toggleable {background-color: white;}#sk-container-id-1 label.sk-toggleable__label {cursor: pointer;display: block;width: 100%;margin-bottom: 0;padding: 0.3em;box-sizing: border-box;text-align: center;}#sk-container-id-1 label.sk-toggleable__label-arrow:before {content: \"▸\";float: left;margin-right: 0.25em;color: #696969;}#sk-container-id-1 label.sk-toggleable__label-arrow:hover:before {color: black;}#sk-container-id-1 div.sk-estimator:hover label.sk-toggleable__label-arrow:before {color: black;}#sk-container-id-1 div.sk-toggleable__content {max-height: 0;max-width: 0;overflow: hidden;text-align: left;background-color: #f0f8ff;}#sk-container-id-1 div.sk-toggleable__content pre {margin: 0.2em;color: black;border-radius: 0.25em;background-color: #f0f8ff;}#sk-container-id-1 input.sk-toggleable__control:checked~div.sk-toggleable__content {max-height: 200px;max-width: 100%;overflow: auto;}#sk-container-id-1 input.sk-toggleable__control:checked~label.sk-toggleable__label-arrow:before {content: \"▾\";}#sk-container-id-1 div.sk-estimator input.sk-toggleable__control:checked~label.sk-toggleable__label {background-color: #d4ebff;}#sk-container-id-1 div.sk-label input.sk-toggleable__control:checked~label.sk-toggleable__label {background-color: #d4ebff;}#sk-container-id-1 input.sk-hidden--visually {border: 0;clip: rect(1px 1px 1px 1px);clip: rect(1px, 1px, 1px, 1px);height: 1px;margin: -1px;overflow: hidden;padding: 0;position: absolute;width: 1px;}#sk-container-id-1 div.sk-estimator {font-family: monospace;background-color: #f0f8ff;border: 1px dotted black;border-radius: 0.25em;box-sizing: border-box;margin-bottom: 0.5em;}#sk-container-id-1 div.sk-estimator:hover {background-color: #d4ebff;}#sk-container-id-1 div.sk-parallel-item::after {content: \"\";width: 100%;border-bottom: 1px solid gray;flex-grow: 1;}#sk-container-id-1 div.sk-label:hover label.sk-toggleable__label {background-color: #d4ebff;}#sk-container-id-1 div.sk-serial::before {content: \"\";position: absolute;border-left: 1px solid gray;box-sizing: border-box;top: 0;bottom: 0;left: 50%;z-index: 0;}#sk-container-id-1 div.sk-serial {display: flex;flex-direction: column;align-items: center;background-color: white;padding-right: 0.2em;padding-left: 0.2em;position: relative;}#sk-container-id-1 div.sk-item {position: relative;z-index: 1;}#sk-container-id-1 div.sk-parallel {display: flex;align-items: stretch;justify-content: center;background-color: white;position: relative;}#sk-container-id-1 div.sk-item::before, #sk-container-id-1 div.sk-parallel-item::before {content: \"\";position: absolute;border-left: 1px solid gray;box-sizing: border-box;top: 0;bottom: 0;left: 50%;z-index: -1;}#sk-container-id-1 div.sk-parallel-item {display: flex;flex-direction: column;z-index: 1;position: relative;background-color: white;}#sk-container-id-1 div.sk-parallel-item:first-child::after {align-self: flex-end;width: 50%;}#sk-container-id-1 div.sk-parallel-item:last-child::after {align-self: flex-start;width: 50%;}#sk-container-id-1 div.sk-parallel-item:only-child::after {width: 0;}#sk-container-id-1 div.sk-dashed-wrapped {border: 1px dashed gray;margin: 0 0.4em 0.5em 0.4em;box-sizing: border-box;padding-bottom: 0.4em;background-color: white;}#sk-container-id-1 div.sk-label label {font-family: monospace;font-weight: bold;display: inline-block;line-height: 1.2em;}#sk-container-id-1 div.sk-label-container {text-align: center;}#sk-container-id-1 div.sk-container {/* jupyter's `normalize.less` sets `[hidden] { display: none; }` but bootstrap.min.css set `[hidden] { display: none !important; }` so we also need the `!important` here to be able to override the default hidden behavior on the sphinx rendered scikit-learn.org. See: https://github.com/scikit-learn/scikit-learn/issues/21755 */display: inline-block !important;position: relative;}#sk-container-id-1 div.sk-text-repr-fallback {display: none;}</style><div id=\"sk-container-id-1\" class=\"sk-top-container\"><div class=\"sk-text-repr-fallback\"><pre>LogisticRegression(max_iter=400, penalty=&#x27;none&#x27;, random_state=42)</pre><b>In a Jupyter environment, please rerun this cell to show the HTML representation or trust the notebook. <br />On GitHub, the HTML representation is unable to render, please try loading this page with nbviewer.org.</b></div><div class=\"sk-container\" hidden><div class=\"sk-item\"><div class=\"sk-estimator sk-toggleable\"><input class=\"sk-toggleable__control sk-hidden--visually\" id=\"sk-estimator-id-1\" type=\"checkbox\" checked><label for=\"sk-estimator-id-1\" class=\"sk-toggleable__label sk-toggleable__label-arrow\">LogisticRegression</label><div class=\"sk-toggleable__content\"><pre>LogisticRegression(max_iter=400, penalty=&#x27;none&#x27;, random_state=42)</pre></div></div></div></div></div>"
      ],
      "text/plain": [
       "LogisticRegression(max_iter=400, penalty='none', random_state=42)"
      ]
     },
     "execution_count": 23,
     "metadata": {},
     "output_type": "execute_result"
    }
   ],
   "source": [
    "# Instantiating a logistic regression model\n",
    "model = LogisticRegression(penalty='none', max_iter=400, random_state=42)\n",
    "\n",
    "# Fitting the logistic regression model\n",
    "model.fit(X_train, y_train)"
   ]
  },
  {
   "cell_type": "code",
   "execution_count": 24,
   "metadata": {
    "id": "7Ri-OHrlmd8j"
   },
   "outputs": [
    {
     "data": {
      "text/plain": [
       "drives                     0.002360\n",
       "total_sessions            -0.000050\n",
       "n_days_after_onboarding   -0.000391\n",
       "total_navigations_fav1     0.001147\n",
       "total_navigations_fav2     0.001003\n",
       "driven_km_drives          -0.000037\n",
       "duration_minutes_drives    0.000125\n",
       "activity_days             -0.102930\n",
       "km_per_driving_day         0.000009\n",
       "professional_driver       -0.001390\n",
       "device2                   -0.001126\n",
       "dtype: float64"
      ]
     },
     "execution_count": 24,
     "metadata": {},
     "output_type": "execute_result"
    }
   ],
   "source": [
    "# Printing model coefficients\n",
    "pd.Series(model.coef_[0], index=X.columns)"
   ]
  },
  {
   "cell_type": "code",
   "execution_count": 25,
   "metadata": {
    "id": "hWeruvy1wksj"
   },
   "outputs": [
    {
     "name": "stdout",
     "output_type": "stream",
     "text": [
      "Intercept: [-0.00179004]\n"
     ]
    }
   ],
   "source": [
    "# Calling the model's intercept attribute to get the intercept of the model.\n",
    "print(\"Intercept:\", model.intercept_)"
   ]
  },
  {
   "cell_type": "markdown",
   "metadata": {
    "id": "tdVIjKNHmlY_"
   },
   "source": [
    "#### **Checking for linear relationship between X and the logit of y**\n",
    "\n",
    "Verifying the linear relationship between X and the estimated log odds (known as logits) by making a regplot."
   ]
  },
  {
   "cell_type": "code",
   "execution_count": 26,
   "metadata": {
    "id": "aY71xhehmo9i"
   },
   "outputs": [],
   "source": [
    "# Getting the predicted probabilities of the training data\n",
    "training_probabilities = model.predict_proba(X_train)"
   ]
  },
  {
   "cell_type": "code",
   "execution_count": 27,
   "metadata": {
    "id": "-tXq8gYnEw6M"
   },
   "outputs": [],
   "source": [
    "# Copying the X_train dataframe and assigning it to logit_data\n",
    "logit_data = X_train.copy()\n",
    "\n",
    "# Extracting probabilities of the positive class from the predicted probabilities\n",
    "churn_probabilities = training_probabilities[:, 1]\n",
    "\n",
    "# Calculating the log-odds (logit) for the positive class using the formula: log(p / (1 - p)).\n",
    "logit_data['logit'] = np.log(churn_probabilities / (1 - churn_probabilities))"
   ]
  },
  {
   "cell_type": "markdown",
   "metadata": {
    "id": "J6oVbApcEx71"
   },
   "source": [
    "Plotting a regplot where the x-axis represents an independent variable and the y-axis represents the log-odds of the predicted probabilities.\n",
    "\n",
    "In an exhaustive analysis, this would be plotted for each continuous or discrete predictor variable. However, here we are considering only driving_days."
   ]
  },
  {
   "cell_type": "code",
   "execution_count": 28,
   "metadata": {
    "id": "5ix8VT0VEzQK"
   },
   "outputs": [
    {
     "data": {
      "image/png": "[encoded data removed]",
      "text/plain": [
       "<Figure size 576x432 with 1 Axes>"
      ]
     },
     "metadata": {
      "needs_background": "light"
     },
     "output_type": "display_data"
    }
   ],
   "source": [
    "# Selecting the independent variable to analyze its relationship with log-odds\n",
    "independent_variable = 'activity_days'\n",
    "\n",
    "# Creating the regplot\n",
    "plt.figure(figsize=(8, 6))\n",
    "sns.regplot(\n",
    "    x=logit_data[independent_variable], # Independent variable on x-axis\n",
    "    y=logit_data['logit'],              # Log-odds on y-axis\n",
    "    scatter_kws={'alpha': 0.5},         # Adjust scatterplot transparency\n",
    "    line_kws={'color': 'red'}           # Regression line color\n",
    ")\n",
    "\n",
    "# Adding labels,title and showing the plot\n",
    "plt.title(f\"Log Odds vs {independent_variable}\", fontsize=14)\n",
    "plt.xlabel(independent_variable, fontsize=12)\n",
    "plt.ylabel(\"Log Odds (log(p/(1-p)))\", fontsize=12)\n",
    "plt.show()"
   ]
  },
  {
   "cell_type": "markdown",
   "metadata": {},
   "source": [
    "Linearity Check:The red regression line suggests a negative linear relationship between activity_days and the log-odds."
   ]
  },
  {
   "cell_type": "markdown",
   "metadata": {
    "id": "F_l3bkxQdJ3a"
   },
   "source": [
    "# **Part 3. Results and Evaluation**"
   ]
  },
  {
   "cell_type": "code",
   "execution_count": 29,
   "metadata": {
    "id": "cSl5gbXfBPBN"
   },
   "outputs": [],
   "source": [
    "# Generating predictions on X_test\n",
    "test_probabilities = model.predict_proba(X_test)\n",
    "\n",
    "# Generating predicted classes for the test set\n",
    "test_predictions = model.predict(X_test)"
   ]
  },
  {
   "cell_type": "code",
   "execution_count": 30,
   "metadata": {
    "id": "fU3v-XO49qm8"
   },
   "outputs": [
    {
     "name": "stdout",
     "output_type": "stream",
     "text": [
      "Model Accuracy on Test Set: 0.83\n"
     ]
    }
   ],
   "source": [
    "# Scoring the model (accuracy) on the test data & printing it\n",
    "accuracy = model.score(X_test, y_test)\n",
    "print(f\"Model Accuracy on Test Set: {accuracy:.2f}\")"
   ]
  },
  {
   "cell_type": "code",
   "execution_count": 31,
   "metadata": {
    "id": "IBFU_dicBjwQ"
   },
   "outputs": [
    {
     "data": {
      "image/png": "[encoded data removed]",
      "text/plain": [
       "<Figure size 576x432 with 2 Axes>"
      ]
     },
     "metadata": {
      "needs_background": "light"
     },
     "output_type": "display_data"
    }
   ],
   "source": [
    "# Generating predictions for the test set\n",
    "y_preds = model.predict(X_test)\n",
    "\n",
    "# Computing the confusion matrix\n",
    "cm = confusion_matrix(y_test, y_preds)\n",
    "\n",
    "# Displaying the confusion matrix\n",
    "plt.figure(figsize=(8, 6))\n",
    "sns.heatmap(cm, annot=True, fmt='d', cmap='Blues', xticklabels=['Retained', 'Churn'], yticklabels=['Retained', 'Churn'])\n",
    "plt.title('Confusion Matrix', fontsize=14)     # Adding the title to the plot\n",
    "plt.xlabel('Predicted Label', fontsize=12)     # Adding label for x-axis\n",
    "plt.ylabel('True Label', fontsize=12)          # Adding label for y-axis\n",
    "plt.show()"
   ]
  },
  {
   "cell_type": "code",
   "execution_count": 32,
   "metadata": {
    "id": "39RM-g6UtbJ_"
   },
   "outputs": [
    {
     "name": "stdout",
     "output_type": "stream",
     "text": [
      "Precision: 0.48\n"
     ]
    }
   ],
   "source": [
    "# Calculating precision & printing it\n",
    "TN, FP, FN, TP = cm.ravel()\n",
    "precision = TP / (TP + FP)\n",
    "print(f\"Precision: {precision:.2f}\")"
   ]
  },
  {
   "cell_type": "code",
   "execution_count": 33,
   "metadata": {
    "id": "xUy7TDpHGlOf"
   },
   "outputs": [
    {
     "name": "stdout",
     "output_type": "stream",
     "text": [
      "Recall: 0.06\n"
     ]
    }
   ],
   "source": [
    "# Calculating recall & printing it\n",
    "recall = TP / (TP + FN)\n",
    "print(f\"Recall: {recall:.2f}\")"
   ]
  },
  {
   "cell_type": "code",
   "execution_count": 34,
   "metadata": {
    "id": "jTxfglLMGlr_"
   },
   "outputs": [
    {
     "name": "stdout",
     "output_type": "stream",
     "text": [
      "Classification Report:\n",
      "              precision    recall  f1-score   support\n",
      "\n",
      "    Retained       0.84      0.99      0.91      2493\n",
      "       Churn       0.48      0.06      0.10       507\n",
      "\n",
      "    accuracy                           0.83      3000\n",
      "   macro avg       0.66      0.52      0.50      3000\n",
      "weighted avg       0.78      0.83      0.77      3000\n",
      "\n"
     ]
    }
   ],
   "source": [
    "# Creating a classification report & printing it\n",
    "report = classification_report(y_test, y_preds, target_names=['Retained', 'Churn'])\n",
    "print(\"Classification Report:\")\n",
    "print(report)"
   ]
  },
  {
   "cell_type": "markdown",
   "metadata": {
    "id": "v8FQnyhnHFT7"
   },
   "source": [
    "The model has a very low recall, which means that it makes a lot of false negatives, where actual churners are incorrectly predicted as retained."
   ]
  },
  {
   "cell_type": "markdown",
   "metadata": {},
   "source": [
    "#### Plotting feature importance \n",
    "\n",
    "The coefficients represent the trained model's output, highlighting the relative importance and direction (positive or negative) of each feature in predicting the target variable. This visualization forms an essential part of interpreting the model's results and understanding which factors drive the predictions."
   ]
  },
  {
   "cell_type": "code",
   "execution_count": 35,
   "metadata": {
    "id": "tuT0aP6FHL6B"
   },
   "outputs": [
    {
     "data": {
      "image/png": "[encoded data removed]",
      "text/plain": [
       "<Figure size 720x432 with 1 Axes>"
      ]
     },
     "metadata": {
      "needs_background": "light"
     },
     "output_type": "display_data"
    }
   ],
   "source": [
    "# Plotting feature importance: \n",
    "# Combining feature names and their corresponding coefficients into a list\n",
    "coefficients = list(zip(X_train.columns, model.coef_[0]))\n",
    "\n",
    "# Creating a DataFrame to store features and their coefficients for easier manipulation\n",
    "coefficients_df = pd.DataFrame(coefficients, columns=['Feature', 'Coefficient'])\n",
    "\n",
    "# Adding a new column for the absolute values of coefficients to assess their magnitude\n",
    "coefficients_df['Abs_Coefficient'] = coefficients_df['Coefficient'].abs()\n",
    "\n",
    "# Sorting the DataFrame by the absolute values of coefficients in descending order\n",
    "coefficients_df = coefficients_df.sort_values(by='Abs_Coefficient', ascending=False)\n",
    "\n",
    "# Plotting the feature importance using a horizontal bar plot\n",
    "plt.figure(figsize=(10, 6))                                                      # Setting the figure size\n",
    "sns.barplot(x='Coefficient', y='Feature', data=coefficients_df)                  # Creating the bar plot\n",
    "plt.title('Feature Importance (Logistic Regression Coefficients)', fontsize=14)  # Adding a title to the plot\n",
    "plt.xlabel('Coefficient Value', fontsize=12)                                     # Labeling the x-axis\n",
    "plt.ylabel('Feature', fontsize=12)                                               # Labeling the y-axis\n",
    "plt.axvline(0, color='black', linestyle='--', linewidth=1)                       # Adding a vertical line at 0 for visual separation\n",
    "plt.show()                                                                       # Displaying the plot\n"
   ]
  },
  {
   "cell_type": "markdown",
   "metadata": {
    "id": "kaam2OD8HOP5"
   },
   "source": [
    "# Communicating insights with stakeholders"
   ]
  },
  {
   "cell_type": "markdown",
   "metadata": {
    "id": "P6AlDDyhdzmG"
   },
   "source": [
    "   - **Professional drivers show lower churn rates.**\n",
    "\n",
    "\n",
    "   - **Drivers with more activity days are far less likely to churn.**\n",
    "\n",
    "\n",
    "   - **While the model achieves 83% accuracy, it struggles with identifying churners (6% recall).**\n"
   ]
  },
  {
   "cell_type": "markdown",
   "metadata": {},
   "source": [
    "# Next steps"
   ]
  },
  {
   "cell_type": "markdown",
   "metadata": {},
   "source": [
    "➡️ Add additional features (e.g., engagement metrics) to improve the model’s ability to predict churn.\n",
    "\n",
    "➡️ Explore alternative models (e.g., Random Forest or Gradient Boosting) to improve churn prediction performance.\n",
    "\n",
    "➡️ Test personalized engagement strategies (e.g., daily streaks or targeted notifications) to increase activity days and drive retention.\n",
    "\n",
    "➡️ Address class imbalance using techniques like oversampling churners, undersampling retained users, or applying class weights during model training."
   ]
  }
 ],
 "metadata": {
  "colab": {
   "provenance": [
    {
     "file_id": "10VdUGxtn9_2OaVJAptrlOkngf4ZKm52V",
     "timestamp": 1671215458572
    },
    {
     "file_id": "1Et0HEKWEY0dZ0BaNZeH189bi-PnC-iUH",
     "timestamp": 1671209438879
    },
    {
     "file_id": "16ynSVRiYFz40jV9BFaXgY62vWJWEVjFA",
     "timestamp": 1671052218770
    },
    {
     "file_id": "15PPfvGb4OuUkuQoTTpKKgSeY9o9a_XrL",
     "timestamp": 1669649625868
    },
    {
     "file_id": "1_uBujapIzHItho27E-iPg9wn3aHtsjLG",
     "timestamp": 1664565386285
    }
   ],
   "toc_visible": true
  },
  "kernelspec": {
   "display_name": "Python 3 (ipykernel)",
   "language": "python",
   "name": "python3"
  },
  "language_info": {
   "codemirror_mode": {
    "name": "ipython",
    "version": 3
   },
   "file_extension": ".py",
   "mimetype": "text/x-python",
   "name": "python",
   "nbconvert_exporter": "python",
   "pygments_lexer": "ipython3",
   "version": "3.9.12"
  }
 },
 "nbformat": 4,
 "nbformat_minor": 1
}
